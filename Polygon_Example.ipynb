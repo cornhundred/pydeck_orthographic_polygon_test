{
 "cells": [
  {
   "cell_type": "code",
   "execution_count": 1,
   "metadata": {},
   "outputs": [],
   "source": [
    "import math\n",
    "import pandas as pd\n",
    "import pydeck as pdk"
   ]
  },
  {
   "cell_type": "code",
   "execution_count": 2,
   "metadata": {},
   "outputs": [],
   "source": [
    "# Load in the JSON data\n",
    "DATA_URL = \"https://raw.githubusercontent.com/visgl/deck.gl-data/master/examples/geojson/vancouver-blocks.json\"\n",
    "json = pd.read_json(DATA_URL)\n",
    "df = pd.DataFrame()\n",
    "df[\"coordinates\"] = json[\"features\"].apply(lambda row: row[\"geometry\"][\"coordinates\"])\n",
    "# strip outer list of coordinates\n",
    "df['coordinates'] = df['coordinates'].apply(lambda x: x[0])"
   ]
  },
  {
   "cell_type": "markdown",
   "metadata": {},
   "source": [
    "### Define Polygon Layer"
   ]
  },
  {
   "cell_type": "code",
   "execution_count": 3,
   "metadata": {},
   "outputs": [],
   "source": [
    "# map\n",
    "polygon_layer = pdk.Layer(\n",
    "    \"PolygonLayer\",\n",
    "    df,\n",
    "    opacity=0.1,\n",
    "    get_polygon=\"coordinates\",    \n",
    "    auto_highlight=True,\n",
    "    pickable=True,\n",
    ")"
   ]
  },
  {
   "cell_type": "markdown",
   "metadata": {},
   "source": [
    "### Default View"
   ]
  },
  {
   "cell_type": "code",
   "execution_count": 4,
   "metadata": {},
   "outputs": [
    {
     "name": "stderr",
     "output_type": "stream",
     "text": [
      "/Users/nickfernandez/anaconda3/envs/pydeck/lib/python3.6/site-packages/pydeck/bindings/deck.py:107: UserWarning: Mapbox API key is not set. This may impact available features of pydeck.\n",
      "  UserWarning,\n"
     ]
    },
    {
     "data": {
      "application/vnd.jupyter.widget-view+json": {
       "model_id": "3b748eddee2540a88daa4d7525008c53",
       "version_major": 2,
       "version_minor": 0
      },
      "text/plain": [
       "DeckGLWidget(google_maps_key=None, height=750, json_input='{\"initialViewState\": {\"bearing\": 0, \"latitude\": 49.…"
      ]
     },
     "metadata": {},
     "output_type": "display_data"
    }
   ],
   "source": [
    "mean_long = df['coordinates'].apply(lambda x: pd.DataFrame(x)[0].mean()).mean()\n",
    "mean_lat = df['coordinates'].apply(lambda x: pd.DataFrame(x)[1].mean()).mean()\n",
    "\n",
    "view_state_dict = {\n",
    "    \"latitude\": mean_lat, \n",
    "    \"longitude\": mean_long, \n",
    "    \"zoom\": 11, \n",
    "    \"maxZoom\": 16, \n",
    "    \"minZoom\": 10,\n",
    "    \"pitch\": 0, \n",
    "    \"bearing\": 0}\n",
    "\n",
    "view_state = pdk.ViewState(\n",
    "    **view_state_dict\n",
    ")\n",
    "\n",
    "# Render\n",
    "r = pdk.Deck(\n",
    "    layers=[polygon_layer],\n",
    "    initial_view_state=view_state,\n",
    "    tooltip={\"text\": \"{lat}\\nCount: {counts}\"},\n",
    "    width=1000,\n",
    "    height=750,\n",
    ")\n",
    "r.show()"
   ]
  },
  {
   "cell_type": "markdown",
   "metadata": {},
   "source": [
    "### Orthographic View"
   ]
  },
  {
   "cell_type": "code",
   "execution_count": 5,
   "metadata": {},
   "outputs": [
    {
     "data": {
      "application/vnd.jupyter.widget-view+json": {
       "model_id": "691ac8f33c984e99848b60850e72f065",
       "version_major": 2,
       "version_minor": 0
      },
      "text/plain": [
       "DeckGLWidget(google_maps_key=None, height=750, json_input='{\"initialViewState\": {\"target\": [-123, 49, 0], \"zoo…"
      ]
     },
     "metadata": {},
     "output_type": "display_data"
    }
   ],
   "source": [
    "view_state = pdk.ViewState(target=[-123, 49, 0], zoom=3)\n",
    "view = pdk.View(\n",
    "    type=\"OrthographicView\",\n",
    "    controller=True\n",
    ")\n",
    "\n",
    "# Render\n",
    "r = pdk.Deck(\n",
    "    layers=[polygon_layer],\n",
    "    initial_view_state=view_state,\n",
    "    tooltip={\"text\": \"{lat}\\nCount: {counts}\"},\n",
    "    width=1000,\n",
    "    height=750,\n",
    "    views=[view]\n",
    ")\n",
    "\n",
    "r.show()"
   ]
  },
  {
   "cell_type": "code",
   "execution_count": null,
   "metadata": {},
   "outputs": [],
   "source": []
  },
  {
   "cell_type": "code",
   "execution_count": null,
   "metadata": {},
   "outputs": [],
   "source": []
  }
 ],
 "metadata": {
  "kernelspec": {
   "display_name": "Python 3",
   "language": "python",
   "name": "python3"
  },
  "language_info": {
   "codemirror_mode": {
    "name": "ipython",
    "version": 3
   },
   "file_extension": ".py",
   "mimetype": "text/x-python",
   "name": "python",
   "nbconvert_exporter": "python",
   "pygments_lexer": "ipython3",
   "version": "3.6.6"
  }
 },
 "nbformat": 4,
 "nbformat_minor": 2
}
